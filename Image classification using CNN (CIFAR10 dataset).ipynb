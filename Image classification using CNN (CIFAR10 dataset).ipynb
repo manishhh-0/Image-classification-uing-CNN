{
 "cells": [
  {
   "cell_type": "markdown",
   "id": "6cca0036-bdc7-4319-a989-c6eca0cc7b16",
   "metadata": {},
   "source": [
    "# Importing Necessary Libraries"
   ]
  },
  {
   "cell_type": "code",
   "execution_count": 1,
   "id": "3de9ac2a-f725-46ea-a8bc-7e040614fd5d",
   "metadata": {},
   "outputs": [],
   "source": [
    "import tensorflow as tf\n",
    "from tensorflow.keras import datasets, layers, models\n",
    "import matplotlib.pyplot as plt\n",
    "import numpy as np\n"
   ]
  },
  {
   "cell_type": "markdown",
   "id": "916e654f-6766-4725-9764-c34d51b71019",
   "metadata": {},
   "source": [
    "# Load the dataset"
   ]
  },
  {
   "cell_type": "markdown",
   "id": "89d97a03-6ce5-4d8f-a366-1d964f9baa80",
   "metadata": {},
   "source": [
    "### total 10 samples "
   ]
  },
  {
   "cell_type": "code",
   "execution_count": 57,
   "id": "ed1bbd48-66ad-42a3-9721-deea982511f9",
   "metadata": {},
   "outputs": [],
   "source": [
    "# 0 : airplane\t\t\t\t\t\t\t\t\t\t\n",
    "# 1 : automobile\t\t\t\t\t\t\t\t\t\t\n",
    "# 2 : bird\t\t\t\t\t\t\t\t\t\t\n",
    "# 3 : cat\t\t\t\t\t\t\t\t\t\t\n",
    "# 4 : deer\t\t\t\t\t\t\t\t\t\t\n",
    "# 5 : dog\t\t\t\t\t\t\t\t\t\t\n",
    "# 6 : frog\t\t\t\t\t\t\t\t\t\t\n",
    "# 7 : horse\t\t\t\t\t\t\t\t\t\t\n",
    "# 8 : ship\t\t\t\t\t\t\t\t\t\t\n",
    "# 9 : truck"
   ]
  },
  {
   "cell_type": "code",
   "execution_count": 11,
   "id": "3e0b9f05-8247-400c-9206-3a214d7125d7",
   "metadata": {},
   "outputs": [
    {
     "name": "stdout",
     "output_type": "stream",
     "text": [
      "Downloading data from https://www.cs.toronto.edu/~kriz/cifar-10-python.tar.gz\n",
      "\u001b[1m170498071/170498071\u001b[0m \u001b[32m━━━━━━━━━━━━━━━━━━━━\u001b[0m\u001b[37m\u001b[0m \u001b[1m1113s\u001b[0m 7us/step\n"
     ]
    },
    {
     "data": {
      "text/plain": [
       "(50000, 32, 32, 3)"
      ]
     },
     "execution_count": 11,
     "metadata": {},
     "output_type": "execute_result"
    }
   ],
   "source": [
    "(X_train, y_train), (X_test,y_test) = datasets.cifar10.load_data()\n",
    "X_train.shape"
   ]
  },
  {
   "cell_type": "code",
   "execution_count": 38,
   "id": "3fddc2bf-f5c9-4bb5-b048-79aa243d41fa",
   "metadata": {},
   "outputs": [],
   "source": [
    "# Traing sample : 50000\n",
    "# Each Sample :32 , 32\n",
    "# RGB Channel : 3"
   ]
  },
  {
   "cell_type": "code",
   "execution_count": 13,
   "id": "ee82cbce-4ea5-445a-9202-d1ab5f00a792",
   "metadata": {},
   "outputs": [
    {
     "data": {
      "text/plain": [
       "(10000, 32, 32, 3)"
      ]
     },
     "execution_count": 13,
     "metadata": {},
     "output_type": "execute_result"
    }
   ],
   "source": [
    "X_test.shape  # for test \n"
   ]
  },
  {
   "cell_type": "code",
   "execution_count": 15,
   "id": "4bfbffc3-b484-4b52-963e-16f483772902",
   "metadata": {},
   "outputs": [
    {
     "data": {
      "text/plain": [
       "(50000, 1)"
      ]
     },
     "execution_count": 15,
     "metadata": {},
     "output_type": "execute_result"
    }
   ],
   "source": [
    "y_train.shape  # for train\n"
   ]
  },
  {
   "cell_type": "code",
   "execution_count": 17,
   "id": "4daf4c71-0d35-46d2-afac-1b3297e128c8",
   "metadata": {},
   "outputs": [
    {
     "data": {
      "text/plain": [
       "array([[6],\n",
       "       [9],\n",
       "       [9],\n",
       "       [4],\n",
       "       [1]], dtype=uint8)"
      ]
     },
     "execution_count": 17,
     "metadata": {},
     "output_type": "execute_result"
    }
   ],
   "source": [
    "y_train[:5]     #2D array (but we don't need this so we reshape it)\n"
   ]
  },
  {
   "cell_type": "code",
   "execution_count": 19,
   "id": "5a83ec05-425d-44eb-9e5a-272d54d8eb89",
   "metadata": {},
   "outputs": [
    {
     "data": {
      "text/plain": [
       "array([6, 9, 9, 4, 1], dtype=uint8)"
      ]
     },
     "execution_count": 19,
     "metadata": {},
     "output_type": "execute_result"
    }
   ],
   "source": [
    "y_train = y_train.reshape(-1,)\n",
    "y_train[:5]\n"
   ]
  },
  {
   "cell_type": "code",
   "execution_count": 21,
   "id": "19278b1f-8b31-4ee2-b3a5-c2392e049472",
   "metadata": {},
   "outputs": [],
   "source": [
    "y_test = y_test.reshape(-1,)"
   ]
  },
  {
   "cell_type": "code",
   "execution_count": 23,
   "id": "4f91c530-2fcd-4461-bdc5-5c17820af434",
   "metadata": {},
   "outputs": [],
   "source": [
    "classes = [\"airplane\",\"automobile\",\"bird\",\"cat\",\"deer\",\"dog\",\"frog\",\"horse\",\"ship\",\"truck\"]   # import classes"
   ]
  },
  {
   "cell_type": "code",
   "execution_count": 41,
   "id": "27932ec8-fc01-4bea-895a-5566d9137450",
   "metadata": {},
   "outputs": [
    {
     "data": {
      "text/plain": [
       "'truck'"
      ]
     },
     "execution_count": 41,
     "metadata": {},
     "output_type": "execute_result"
    }
   ],
   "source": [
    "classes[9]  #checking the array"
   ]
  },
  {
   "cell_type": "code",
   "execution_count": 25,
   "id": "62206322-f7b7-48bb-91a5-21303123b8b6",
   "metadata": {},
   "outputs": [],
   "source": [
    "def plot_sample(X, y, index):\n",
    "    plt.figure(figsize = (15,2))\n",
    "    plt.imshow(X[index])\n",
    "    plt.xlabel(classes[y[index]])\n",
    "#ploting the samples"
   ]
  },
  {
   "cell_type": "code",
   "execution_count": 27,
   "id": "11020928-d7b6-4eda-8494-5ce9bd2ae73c",
   "metadata": {},
   "outputs": [
    {
     "data": {
      "image/png": "[encoded data removed]",
      "text/plain": [
       "<Figure size 1500x200 with 1 Axes>"
      ]
     },
     "metadata": {},
     "output_type": "display_data"
    }
   ],
   "source": [
    "plot_sample(X_train, y_train, 0)   # we can change value to check for other images"
   ]
  },
  {
   "cell_type": "code",
   "execution_count": 29,
   "id": "7229f423-a1b8-4ed7-9f6c-1d326a3ae220",
   "metadata": {},
   "outputs": [
    {
     "data": {
      "image/png": "[encoded data removed]",
      "text/plain": [
       "<Figure size 1500x200 with 1 Axes>"
      ]
     },
     "metadata": {},
     "output_type": "display_data"
    }
   ],
   "source": [
    "plot_sample(X_train, y_train, 1)   #we change 0 to 1 and its a truck"
   ]
  },
  {
   "cell_type": "code",
   "execution_count": 43,
   "id": "1e78f6b4-7cff-43de-859b-a11a818a8f20",
   "metadata": {},
   "outputs": [
    {
     "data": {
      "image/png": "[encoded data removed]",
      "text/plain": [
       "<Figure size 1500x200 with 1 Axes>"
      ]
     },
     "metadata": {},
     "output_type": "display_data"
    }
   ],
   "source": [
    "plot_sample(X_train, y_train, 3)"
   ]
  },
  {
   "cell_type": "markdown",
   "id": "0a3f8911-c5ec-4e13-8331-fa85a39109f9",
   "metadata": {},
   "source": [
    "# Normalizing the training data"
   ]
  },
  {
   "cell_type": "code",
   "execution_count": 32,
   "id": "feb303fc-5f10-4eac-8c16-c698fd018a22",
   "metadata": {},
   "outputs": [],
   "source": [
    "X_train = X_train / 255.0\n",
    "X_test = X_test / 255.0\n",
    "#the values are now normalized"
   ]
  },
  {
   "cell_type": "markdown",
   "id": "36607c56-ba85-465a-87cd-92858db05fbc",
   "metadata": {},
   "source": [
    "# Build simple artificial neural network for image classification"
   ]
  },
  {
   "cell_type": "code",
   "execution_count": 34,
   "id": "7f4f211a-e6a4-4fe8-9723-966fa1e307aa",
   "metadata": {},
   "outputs": [
    {
     "name": "stderr",
     "output_type": "stream",
     "text": [
      "C:\\Users\\hp\\anaconda3\\Lib\\site-packages\\keras\\src\\layers\\reshaping\\flatten.py:37: UserWarning: Do not pass an `input_shape`/`input_dim` argument to a layer. When using Sequential models, prefer using an `Input(shape)` object as the first layer in the model instead.\n",
      "  super().__init__(**kwargs)\n"
     ]
    },
    {
     "name": "stdout",
     "output_type": "stream",
     "text": [
      "Epoch 1/5\n",
      "\u001b[1m1563/1563\u001b[0m \u001b[32m━━━━━━━━━━━━━━━━━━━━\u001b[0m\u001b[37m\u001b[0m \u001b[1m82s\u001b[0m 52ms/step - accuracy: 0.3093 - loss: 1.9250\n",
      "Epoch 2/5\n",
      "\u001b[1m1563/1563\u001b[0m \u001b[32m━━━━━━━━━━━━━━━━━━━━\u001b[0m\u001b[37m\u001b[0m \u001b[1m88s\u001b[0m 56ms/step - accuracy: 0.4196 - loss: 1.6409\n",
      "Epoch 3/5\n",
      "\u001b[1m1563/1563\u001b[0m \u001b[32m━━━━━━━━━━━━━━━━━━━━\u001b[0m\u001b[37m\u001b[0m \u001b[1m80s\u001b[0m 51ms/step - accuracy: 0.4510 - loss: 1.5498\n",
      "Epoch 4/5\n",
      "\u001b[1m1563/1563\u001b[0m \u001b[32m━━━━━━━━━━━━━━━━━━━━\u001b[0m\u001b[37m\u001b[0m \u001b[1m85s\u001b[0m 54ms/step - accuracy: 0.4734 - loss: 1.4889\n",
      "Epoch 5/5\n",
      "\u001b[1m1563/1563\u001b[0m \u001b[32m━━━━━━━━━━━━━━━━━━━━\u001b[0m\u001b[37m\u001b[0m \u001b[1m78s\u001b[0m 50ms/step - accuracy: 0.4930 - loss: 1.4351\n"
     ]
    },
    {
     "data": {
      "text/plain": [
       "<keras.src.callbacks.history.History at 0x22705158b30>"
      ]
     },
     "execution_count": 34,
     "metadata": {},
     "output_type": "execute_result"
    }
   ],
   "source": [
    "#GPU performance\n",
    "ann = models.Sequential([\n",
    "        layers.Flatten(input_shape=(32,32,3)),\n",
    "        layers.Dense(3000, activation='relu'),\n",
    "        layers.Dense(1000, activation='relu'),\n",
    "        layers.Dense(10, activation='softmax')  # we have total 10 categories in the dataset CIFAR10  \n",
    "    ])\n",
    "\n",
    "ann.compile(optimizer='SGD',\n",
    "              loss='sparse_categorical_crossentropy',\n",
    "              metrics=['accuracy'])\n",
    "\n",
    "ann.fit(X_train, y_train, epochs=5)\n",
    "# the end of 5 epochs, accuracy is at around 49%"
   ]
  },
  {
   "cell_type": "code",
   "execution_count": 45,
   "id": "62210740-25be-4727-a115-1ef7149f7399",
   "metadata": {},
   "outputs": [
    {
     "name": "stdout",
     "output_type": "stream",
     "text": [
      "\u001b[1m313/313\u001b[0m \u001b[32m━━━━━━━━━━━━━━━━━━━━\u001b[0m\u001b[37m\u001b[0m \u001b[1m4s\u001b[0m 12ms/step\n",
      "Classification Report: \n",
      "               precision    recall  f1-score   support\n",
      "\n",
      "           0       0.68      0.41      0.51      1000\n",
      "           1       0.58      0.54      0.56      1000\n",
      "           2       0.38      0.35      0.37      1000\n",
      "           3       0.33      0.35      0.34      1000\n",
      "           4       0.71      0.10      0.17      1000\n",
      "           5       0.33      0.51      0.40      1000\n",
      "           6       0.55      0.45      0.50      1000\n",
      "           7       0.49      0.60      0.54      1000\n",
      "           8       0.71      0.44      0.54      1000\n",
      "           9       0.36      0.76      0.49      1000\n",
      "\n",
      "    accuracy                           0.45     10000\n",
      "   macro avg       0.51      0.45      0.44     10000\n",
      "weighted avg       0.51      0.45      0.44     10000\n",
      "\n"
     ]
    }
   ],
   "source": [
    "from sklearn.metrics import confusion_matrix , classification_report\n",
    "import numpy as np\n",
    "y_pred = ann.predict(X_test)\n",
    "y_pred_classes = [np.argmax(element) for element in y_pred]\n",
    "\n",
    "print(\"Classification Report: \\n\", classification_report(y_test, y_pred_classes))\n",
    "\n",
    "# classification report that check precision,recall,f1-score,support for the dataset"
   ]
  },
  {
   "cell_type": "markdown",
   "id": "0a98d9e5-de53-47ec-b1da-89b0bcf72158",
   "metadata": {},
   "source": [
    "# Now let us build a convolutional neural network to train our images"
   ]
  },
  {
   "cell_type": "markdown",
   "id": "e2194872-7c2b-4bba-8338-76b3992d1dc1",
   "metadata": {},
   "source": [
    "### Main part (CNN)"
   ]
  },
  {
   "cell_type": "code",
   "execution_count": 49,
   "id": "7294d81f-afc0-41d5-9caa-e077c0505c23",
   "metadata": {},
   "outputs": [
    {
     "name": "stderr",
     "output_type": "stream",
     "text": [
      "C:\\Users\\hp\\anaconda3\\Lib\\site-packages\\keras\\src\\layers\\convolutional\\base_conv.py:107: UserWarning: Do not pass an `input_shape`/`input_dim` argument to a layer. When using Sequential models, prefer using an `Input(shape)` object as the first layer in the model instead.\n",
      "  super().__init__(activity_regularizer=activity_regularizer, **kwargs)\n"
     ]
    }
   ],
   "source": [
    "cnn = models.Sequential([\n",
    "    layers.Conv2D(filters=32, kernel_size=(3, 3), activation='relu', input_shape=(32, 32, 3)),\n",
    "    layers.MaxPooling2D((2, 2)),\n",
    "    \n",
    "    layers.Conv2D(filters=64, kernel_size=(3, 3), activation='relu'),\n",
    "    layers.MaxPooling2D((2, 2)),\n",
    "    \n",
    "    layers.Flatten(),\n",
    "    layers.Dense(64, activation='relu'),\n",
    "    layers.Dense(10, activation='softmax')  # softmax normalized the pobability (activation method)\n",
    "])\n"
   ]
  },
  {
   "cell_type": "code",
   "execution_count": 51,
   "id": "ec193472-b427-438a-ae8e-e0512b682b22",
   "metadata": {},
   "outputs": [],
   "source": [
    "cnn.compile(optimizer='adam',\n",
    "              loss='sparse_categorical_crossentropy',\n",
    "              metrics=['accuracy'])\n"
   ]
  },
  {
   "cell_type": "code",
   "execution_count": 53,
   "id": "1f7bebb1-7b51-4e18-892d-9331bba6c736",
   "metadata": {},
   "outputs": [
    {
     "name": "stdout",
     "output_type": "stream",
     "text": [
      "Epoch 1/10\n",
      "\u001b[1m1563/1563\u001b[0m \u001b[32m━━━━━━━━━━━━━━━━━━━━\u001b[0m\u001b[37m\u001b[0m \u001b[1m30s\u001b[0m 18ms/step - accuracy: 0.3798 - loss: 1.7028\n",
      "Epoch 2/10\n",
      "\u001b[1m1563/1563\u001b[0m \u001b[32m━━━━━━━━━━━━━━━━━━━━\u001b[0m\u001b[37m\u001b[0m \u001b[1m29s\u001b[0m 18ms/step - accuracy: 0.5880 - loss: 1.1667\n",
      "Epoch 3/10\n",
      "\u001b[1m1563/1563\u001b[0m \u001b[32m━━━━━━━━━━━━━━━━━━━━\u001b[0m\u001b[37m\u001b[0m \u001b[1m30s\u001b[0m 19ms/step - accuracy: 0.6494 - loss: 1.0050\n",
      "Epoch 4/10\n",
      "\u001b[1m1563/1563\u001b[0m \u001b[32m━━━━━━━━━━━━━━━━━━━━\u001b[0m\u001b[37m\u001b[0m \u001b[1m30s\u001b[0m 19ms/step - accuracy: 0.6804 - loss: 0.9212\n",
      "Epoch 5/10\n",
      "\u001b[1m1563/1563\u001b[0m \u001b[32m━━━━━━━━━━━━━━━━━━━━\u001b[0m\u001b[37m\u001b[0m \u001b[1m31s\u001b[0m 20ms/step - accuracy: 0.7027 - loss: 0.8497\n",
      "Epoch 6/10\n",
      "\u001b[1m1563/1563\u001b[0m \u001b[32m━━━━━━━━━━━━━━━━━━━━\u001b[0m\u001b[37m\u001b[0m \u001b[1m31s\u001b[0m 20ms/step - accuracy: 0.7240 - loss: 0.7962\n",
      "Epoch 7/10\n",
      "\u001b[1m1563/1563\u001b[0m \u001b[32m━━━━━━━━━━━━━━━━━━━━\u001b[0m\u001b[37m\u001b[0m \u001b[1m29s\u001b[0m 18ms/step - accuracy: 0.7406 - loss: 0.7470\n",
      "Epoch 8/10\n",
      "\u001b[1m1563/1563\u001b[0m \u001b[32m━━━━━━━━━━━━━━━━━━━━\u001b[0m\u001b[37m\u001b[0m \u001b[1m30s\u001b[0m 19ms/step - accuracy: 0.7548 - loss: 0.7044\n",
      "Epoch 9/10\n",
      "\u001b[1m1563/1563\u001b[0m \u001b[32m━━━━━━━━━━━━━━━━━━━━\u001b[0m\u001b[37m\u001b[0m \u001b[1m33s\u001b[0m 21ms/step - accuracy: 0.7725 - loss: 0.6581\n",
      "Epoch 10/10\n",
      "\u001b[1m1563/1563\u001b[0m \u001b[32m━━━━━━━━━━━━━━━━━━━━\u001b[0m\u001b[37m\u001b[0m \u001b[1m28s\u001b[0m 18ms/step - accuracy: 0.7789 - loss: 0.6301\n"
     ]
    },
    {
     "data": {
      "text/plain": [
       "<keras.src.callbacks.history.History at 0x2270de2ddc0>"
      ]
     },
     "execution_count": 53,
     "metadata": {},
     "output_type": "execute_result"
    }
   ],
   "source": [
    "cnn.fit(X_train, y_train, epochs=10)\n",
    "\n",
    "# With CNN, at the end 5 epochs, accuracy was at around 70% which is a significant improvement over ANN. \n",
    "#CNN's are best for image classification and gives superb accuracy. \n",
    "#Also computation is much less compared to simple ANN \n",
    "#as maxpooling reduces the image dimensions while still preserving the features"
   ]
  },
  {
   "cell_type": "code",
   "execution_count": 59,
   "id": "3a0053cb-db70-412f-ad82-52172920c703",
   "metadata": {},
   "outputs": [
    {
     "name": "stdout",
     "output_type": "stream",
     "text": [
      "\u001b[1m313/313\u001b[0m \u001b[32m━━━━━━━━━━━━━━━━━━━━\u001b[0m\u001b[37m\u001b[0m \u001b[1m2s\u001b[0m 7ms/step - accuracy: 0.7000 - loss: 0.9105\n"
     ]
    },
    {
     "data": {
      "text/plain": [
       "[0.9290346503257751, 0.6952000260353088]"
      ]
     },
     "execution_count": 59,
     "metadata": {},
     "output_type": "execute_result"
    }
   ],
   "source": [
    "cnn.evaluate(X_test,y_test)"
   ]
  },
  {
   "cell_type": "code",
   "execution_count": 61,
   "id": "fbcd29a3-6d03-48fc-9085-ed118a521eae",
   "metadata": {},
   "outputs": [
    {
     "name": "stdout",
     "output_type": "stream",
     "text": [
      "\u001b[1m313/313\u001b[0m \u001b[32m━━━━━━━━━━━━━━━━━━━━\u001b[0m\u001b[37m\u001b[0m \u001b[1m2s\u001b[0m 6ms/step\n"
     ]
    },
    {
     "data": {
      "text/plain": [
       "array([[1.3566646e-04, 2.0760717e-06, 2.8320053e-03, 9.6600389e-01,\n",
       "        8.5964719e-05, 2.8985934e-02, 5.6634512e-05, 1.1187789e-05,\n",
       "        1.8835604e-03, 3.0754243e-06],\n",
       "       [2.9176235e-05, 5.5248558e-04, 4.2442363e-08, 2.9977894e-08,\n",
       "        2.8677640e-09, 4.4724943e-10, 2.8717145e-10, 9.1241965e-11,\n",
       "        9.9937820e-01, 4.0089373e-05],\n",
       "       [1.2557381e-01, 1.5229990e-01, 6.1237050e-04, 1.2986615e-03,\n",
       "        2.5998135e-04, 7.8779856e-05, 1.4914459e-04, 1.7732097e-04,\n",
       "        6.9788569e-01, 2.1664480e-02],\n",
       "       [9.6462202e-01, 2.3124712e-03, 3.1716344e-03, 1.9171048e-04,\n",
       "        2.2995500e-04, 2.4993942e-06, 1.4201008e-05, 1.7806195e-05,\n",
       "        2.9352035e-02, 8.5641324e-05],\n",
       "       [5.8911178e-06, 3.3285355e-04, 4.6461925e-02, 3.1139374e-02,\n",
       "        5.1751512e-01, 3.8734612e-03, 3.9997506e-01, 3.1547011e-06,\n",
       "        7.7675024e-05, 6.1549607e-04]], dtype=float32)"
      ]
     },
     "execution_count": 61,
     "metadata": {},
     "output_type": "execute_result"
    }
   ],
   "source": [
    "y_pred = cnn.predict(X_test)\n",
    "y_pred[:5]\n"
   ]
  },
  {
   "cell_type": "code",
   "execution_count": 62,
   "id": "0c0ad546-865b-4f9e-848f-396fe6ba4a42",
   "metadata": {},
   "outputs": [
    {
     "data": {
      "text/plain": [
       "[3, 8, 8, 0, 4]"
      ]
     },
     "execution_count": 62,
     "metadata": {},
     "output_type": "execute_result"
    }
   ],
   "source": [
    "y_classes = [np.argmax(element) for element in y_pred]\n",
    "y_classes[:5]\n"
   ]
  },
  {
   "cell_type": "code",
   "execution_count": 65,
   "id": "c3107f5a-483d-4b5a-8b69-48ae83ae67af",
   "metadata": {},
   "outputs": [
    {
     "data": {
      "text/plain": [
       "array([3, 8, 8, 0, 6], dtype=uint8)"
      ]
     },
     "execution_count": 65,
     "metadata": {},
     "output_type": "execute_result"
    }
   ],
   "source": [
    "y_test[:5]"
   ]
  },
  {
   "cell_type": "code",
   "execution_count": 67,
   "id": "1fec1fc3-ca1d-46e3-bf22-d3158a499b81",
   "metadata": {},
   "outputs": [
    {
     "data": {
      "image/png": "[encoded data removed]",
      "text/plain": [
       "<Figure size 1500x200 with 1 Axes>"
      ]
     },
     "metadata": {},
     "output_type": "display_data"
    }
   ],
   "source": [
    "plot_sample(X_test, y_test,3)"
   ]
  },
  {
   "cell_type": "code",
   "execution_count": 69,
   "id": "b9b7598d-bae0-4bef-999e-910b8f8d448b",
   "metadata": {},
   "outputs": [
    {
     "data": {
      "text/plain": [
       "'airplane'"
      ]
     },
     "execution_count": 69,
     "metadata": {},
     "output_type": "execute_result"
    }
   ],
   "source": [
    "classes[y_classes[3]]\n"
   ]
  },
  {
   "cell_type": "code",
   "execution_count": null,
   "id": "9bf577db-b5ef-4b0b-a727-cba19862469e",
   "metadata": {},
   "outputs": [],
   "source": []
  }
 ],
 "metadata": {
  "kernelspec": {
   "display_name": "Python 3 (ipykernel)",
   "language": "python",
   "name": "python3"
  },
  "language_info": {
   "codemirror_mode": {
    "name": "ipython",
    "version": 3
   },
   "file_extension": ".py",
   "mimetype": "text/x-python",
   "name": "python",
   "nbconvert_exporter": "python",
   "pygments_lexer": "ipython3",
   "version": "3.12.7"
  }
 },
 "nbformat": 4,
 "nbformat_minor": 5
}
